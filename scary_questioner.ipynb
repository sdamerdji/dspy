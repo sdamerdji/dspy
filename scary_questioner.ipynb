{
 "cells": [
  {
   "cell_type": "code",
   "execution_count": 1,
   "id": "70784d0b",
   "metadata": {},
   "outputs": [
    {
     "name": "stderr",
     "output_type": "stream",
     "text": [
      "/Users/Salim/Library/Caches/pypoetry/virtualenvs/dspy-toy-SOZM3orb-py3.11/lib/python3.11/site-packages/tqdm/auto.py:21: TqdmWarning: IProgress not found. Please update jupyter and ipywidgets. See https://ipywidgets.readthedocs.io/en/stable/user_install.html\n",
      "  from .autonotebook import tqdm as notebook_tqdm\n"
     ]
    }
   ],
   "source": [
    "import dspy"
   ]
  },
  {
   "cell_type": "code",
   "execution_count": 2,
   "id": "3b32de46",
   "metadata": {},
   "outputs": [],
   "source": [
    "import os"
   ]
  },
  {
   "cell_type": "code",
   "execution_count": 6,
   "id": "5292a9e4",
   "metadata": {},
   "outputs": [],
   "source": [
    "api_key = os.environ.get('OPENAI_API_KEY')"
   ]
  },
  {
   "cell_type": "code",
   "execution_count": 7,
   "id": "072c665a",
   "metadata": {},
   "outputs": [],
   "source": [
    "lm = dspy.LM('openai/gpt-4.1-nano', api_key=api_key)\n",
    "dspy.configure(lm=lm)"
   ]
  },
  {
   "cell_type": "code",
   "execution_count": 16,
   "id": "a452c582",
   "metadata": {},
   "outputs": [],
   "source": [
    "mom_test_examples = [\n",
    "  {\n",
    "    \"business_proposal\": \"One of my companies had some legal ambiguities around content ownership. It was okay in theory, but lacked strong precedents. I was always a bit nervous we would get 'found out.' Their execs were excited, their creatives were thrilled. We had even brought the stubborn tech team around to our side.\",\n",
    "    \"scary_question\": \"Can I speak with your legal team to understand if they’re comfortable with the content ownership terms?\"\n",
    "  },\n",
    "  {\n",
    "    \"business_proposal\": \"We suspect that teachers from the poorest schools are completely overloaded, and that our tools would save them time so they could better educate their students.\",\n",
    "    \"scary_question\": \"Do you have a budget allocated for tools like this?\"\n",
    "  },\n",
    "  {\n",
    "    \"business_proposal\": \"Bars will pay, but only if you can amass a huge audience of consumers. The founders talk to consumers and ask if they would use an app which always pointed them to booming parties with cheap booze.\",\n",
    "    \"scary_question\": \"How would we reach the critical mass of users needed to make this appealing to bars?\"\n",
    "  },\n",
    "  {\n",
    "    \"business_proposal\": \"You’ve got $50k to start your business and you want to know whether your idea is any good before committing all your resources.\",\n",
    "    \"scary_question\": \"What’s the most likely reason this business could fail?\"\n",
    "  },\n",
    "  {\n",
    "    \"business_proposal\": \"You’re building a solution for a customer segment that includes 'students' or 'sales organizations,' thinking you’re focused.\",\n",
    "    \"scary_question\": \"Am I talking to a consistent customer segment or are these conversations spread across too many types?\"\n",
    "  }\n",
    "]\n"
   ]
  },
  {
   "cell_type": "code",
   "execution_count": 14,
   "id": "5dce2afc",
   "metadata": {},
   "outputs": [],
   "source": [
    "synthetic_examples = [\n",
    "  {\n",
    "    \"business_proposal\": \"We’re building a marketplace for local artisans to sell their crafts directly to consumers, cutting out the middleman.\",\n",
    "    \"scary_question\": \"Have you ever tried selling your products online, and what stopped you if you haven’t?\"\n",
    "  },\n",
    "  {\n",
    "    \"business_proposal\": \"We want to automate nutrition planning for athletes with an AI coach that updates meal plans daily based on performance.\",\n",
    "    \"scary_question\": \"How do you currently plan your meals and how often do you actually adjust them based on training feedback?\"\n",
    "  },\n",
    "  {\n",
    "    \"business_proposal\": \"Our product helps landlords track maintenance requests and rent payments in one dashboard.\",\n",
    "    \"scary_question\": \"What are the biggest problems in your rental workflow right now, and do any of them actually cost you money or tenants?\"\n",
    "  },\n",
    "  {\n",
    "    \"business_proposal\": \"We’re launching a subscription box of STEM projects for kids aged 8–12 to foster early interest in engineering.\",\n",
    "    \"scary_question\": \"When was the last time you bought something educational for your kids that wasn’t required by school?\"\n",
    "  },\n",
    "  {\n",
    "    \"business_proposal\": \"We're building a tool to help wedding planners coordinate vendors, guests, and schedules in one place.\",\n",
    "    \"scary_question\": \"What’s the worst part of planning a wedding, and how do you currently manage that part?\"\n",
    "  },\n",
    "  {\n",
    "    \"business_proposal\": \"We want to help freelancers manage their taxes and automatically save for quarterly payments.\",\n",
    "    \"scary_question\": \"Have you ever missed a tax payment or been hit with a fine? What did you do about it?\"\n",
    "  },\n",
    "  {\n",
    "    \"business_proposal\": \"We’re developing a social platform for book lovers to find and join local book clubs.\",\n",
    "    \"scary_question\": \"How do you currently find new people to read or discuss books with, and do you feel like that’s a gap in your life?\"\n",
    "  },\n",
    "  {\n",
    "    \"business_proposal\": \"We’re building software to help nonprofit boards manage compliance and governance more easily.\",\n",
    "    \"scary_question\": \"Has governance or compliance ever caused real delays or risks for your nonprofit?\"\n",
    "  },\n",
    "  {\n",
    "    \"business_proposal\": \"We want to make a budgeting app for couples to track and manage shared expenses transparently.\",\n",
    "    \"scary_question\": \"What’s the last disagreement you had with your partner about money, and how did you resolve it?\"\n",
    "  },\n",
    "  {\n",
    "    \"business_proposal\": \"We’re building an AI tool to help content marketers repurpose long-form blogs into social media posts.\",\n",
    "    \"scary_question\": \"What’s stopping you from turning your best content into social posts today?\"\n",
    "  }\n",
    "]"
   ]
  },
  {
   "cell_type": "code",
   "execution_count": 36,
   "id": "79095ab2",
   "metadata": {},
   "outputs": [],
   "source": [
    "trainset = [\n",
    "    dspy.Example(business_proposal=x.get('business_proposal'), hint=x.get('scary_question'), label=x.get('scary_question')).with_inputs(\"business_proposal\", \"hint\")\n",
    "    for x in mom_test_examples + synthetic_examples\n",
    "]"
   ]
  },
  {
   "cell_type": "code",
   "execution_count": 37,
   "id": "e902f643",
   "metadata": {},
   "outputs": [
    {
     "data": {
      "text/plain": [
       "[Example({'business_proposal': \"One of my companies had some legal ambiguities around content ownership. It was okay in theory, but lacked strong precedents. I was always a bit nervous we would get 'found out.' Their execs were excited, their creatives were thrilled. We had even brought the stubborn tech team around to our side.\", 'hint': 'Can I speak with your legal team to understand if they’re comfortable with the content ownership terms?', 'label': 'Can I speak with your legal team to understand if they’re comfortable with the content ownership terms?'}) (input_keys={'business_proposal', 'hint'}),\n",
       " Example({'business_proposal': 'We suspect that teachers from the poorest schools are completely overloaded, and that our tools would save them time so they could better educate their students.', 'hint': 'Do you have a budget allocated for tools like this?', 'label': 'Do you have a budget allocated for tools like this?'}) (input_keys={'business_proposal', 'hint'}),\n",
       " Example({'business_proposal': 'Bars will pay, but only if you can amass a huge audience of consumers. The founders talk to consumers and ask if they would use an app which always pointed them to booming parties with cheap booze.', 'hint': 'How would we reach the critical mass of users needed to make this appealing to bars?', 'label': 'How would we reach the critical mass of users needed to make this appealing to bars?'}) (input_keys={'business_proposal', 'hint'}),\n",
       " Example({'business_proposal': 'You’ve got $50k to start your business and you want to know whether your idea is any good before committing all your resources.', 'hint': 'What’s the most likely reason this business could fail?', 'label': 'What’s the most likely reason this business could fail?'}) (input_keys={'business_proposal', 'hint'}),\n",
       " Example({'business_proposal': \"You’re building a solution for a customer segment that includes 'students' or 'sales organizations,' thinking you’re focused.\", 'hint': 'Am I talking to a consistent customer segment or are these conversations spread across too many types?', 'label': 'Am I talking to a consistent customer segment or are these conversations spread across too many types?'}) (input_keys={'business_proposal', 'hint'}),\n",
       " Example({'business_proposal': 'We’re building a marketplace for local artisans to sell their crafts directly to consumers, cutting out the middleman.', 'hint': 'Have you ever tried selling your products online, and what stopped you if you haven’t?', 'label': 'Have you ever tried selling your products online, and what stopped you if you haven’t?'}) (input_keys={'business_proposal', 'hint'}),\n",
       " Example({'business_proposal': 'We want to automate nutrition planning for athletes with an AI coach that updates meal plans daily based on performance.', 'hint': 'How do you currently plan your meals and how often do you actually adjust them based on training feedback?', 'label': 'How do you currently plan your meals and how often do you actually adjust them based on training feedback?'}) (input_keys={'business_proposal', 'hint'}),\n",
       " Example({'business_proposal': 'Our product helps landlords track maintenance requests and rent payments in one dashboard.', 'hint': 'What are the biggest problems in your rental workflow right now, and do any of them actually cost you money or tenants?', 'label': 'What are the biggest problems in your rental workflow right now, and do any of them actually cost you money or tenants?'}) (input_keys={'business_proposal', 'hint'}),\n",
       " Example({'business_proposal': 'We’re launching a subscription box of STEM projects for kids aged 8–12 to foster early interest in engineering.', 'hint': 'When was the last time you bought something educational for your kids that wasn’t required by school?', 'label': 'When was the last time you bought something educational for your kids that wasn’t required by school?'}) (input_keys={'business_proposal', 'hint'}),\n",
       " Example({'business_proposal': \"We're building a tool to help wedding planners coordinate vendors, guests, and schedules in one place.\", 'hint': 'What’s the worst part of planning a wedding, and how do you currently manage that part?', 'label': 'What’s the worst part of planning a wedding, and how do you currently manage that part?'}) (input_keys={'business_proposal', 'hint'}),\n",
       " Example({'business_proposal': 'We want to help freelancers manage their taxes and automatically save for quarterly payments.', 'hint': 'Have you ever missed a tax payment or been hit with a fine? What did you do about it?', 'label': 'Have you ever missed a tax payment or been hit with a fine? What did you do about it?'}) (input_keys={'business_proposal', 'hint'}),\n",
       " Example({'business_proposal': 'We’re developing a social platform for book lovers to find and join local book clubs.', 'hint': 'How do you currently find new people to read or discuss books with, and do you feel like that’s a gap in your life?', 'label': 'How do you currently find new people to read or discuss books with, and do you feel like that’s a gap in your life?'}) (input_keys={'business_proposal', 'hint'}),\n",
       " Example({'business_proposal': 'We’re building software to help nonprofit boards manage compliance and governance more easily.', 'hint': 'Has governance or compliance ever caused real delays or risks for your nonprofit?', 'label': 'Has governance or compliance ever caused real delays or risks for your nonprofit?'}) (input_keys={'business_proposal', 'hint'}),\n",
       " Example({'business_proposal': 'We want to make a budgeting app for couples to track and manage shared expenses transparently.', 'hint': 'What’s the last disagreement you had with your partner about money, and how did you resolve it?', 'label': 'What’s the last disagreement you had with your partner about money, and how did you resolve it?'}) (input_keys={'business_proposal', 'hint'}),\n",
       " Example({'business_proposal': 'We’re building an AI tool to help content marketers repurpose long-form blogs into social media posts.', 'hint': 'What’s stopping you from turning your best content into social posts today?', 'label': 'What’s stopping you from turning your best content into social posts today?'}) (input_keys={'business_proposal', 'hint'})]"
      ]
     },
     "execution_count": 37,
     "metadata": {},
     "output_type": "execute_result"
    }
   ],
   "source": [
    "trainset"
   ]
  },
  {
   "cell_type": "code",
   "execution_count": 51,
   "id": "589a4f26",
   "metadata": {},
   "outputs": [
    {
     "name": "stderr",
     "output_type": "stream",
     "text": [
      "2025/05/22 22:06:39 INFO dspy.teleprompt.bootstrap_finetune: Preparing the student and teacher programs...\n",
      "2025/05/22 22:06:39 INFO dspy.teleprompt.bootstrap_finetune: Bootstrapping data...\n",
      "2025/05/22 22:06:39 ERROR dspy.utils.parallelizer: Error for Example({'business_proposal': \"One of my companies had some legal ambiguities around content ownership. It was okay in theory, but lacked strong precedents. I was always a bit nervous we would get 'found out.' Their execs were excited, their creatives were thrilled. We had even brought the stubborn tech team around to our side.\", 'hint': 'Can I speak with your legal team to understand if they’re comfortable with the content ownership terms?', 'label': 'Can I speak with your legal team to understand if they’re comfortable with the content ownership terms?'}) (input_keys={'business_proposal', 'hint'}): 'ChainOfThought' object has no attribute 'input_fields'. Set `provide_traceback=True` for traceback.\n",
      "2025/05/22 22:06:39 ERROR dspy.utils.parallelizer: Error for Example({'business_proposal': 'We suspect that teachers from the poorest schools are completely overloaded, and that our tools would save them time so they could better educate their students.', 'hint': 'Do you have a budget allocated for tools like this?', 'label': 'Do you have a budget allocated for tools like this?'}) (input_keys={'business_proposal', 'hint'}): 'ChainOfThought' object has no attribute 'input_fields'. Set `provide_traceback=True` for traceback.\n",
      "2025/05/22 22:06:39 ERROR dspy.utils.parallelizer: Error for Example({'business_proposal': 'Bars will pay, but only if you can amass a huge audience of consumers. The founders talk to consumers and ask if they would use an app which always pointed them to booming parties with cheap booze.', 'hint': 'How would we reach the critical mass of users needed to make this appealing to bars?', 'label': 'How would we reach the critical mass of users needed to make this appealing to bars?'}) (input_keys={'business_proposal', 'hint'}): 'ChainOfThought' object has no attribute 'input_fields'. Set `provide_traceback=True` for traceback.\n",
      "2025/05/22 22:06:39 ERROR dspy.utils.parallelizer: Error for Example({'business_proposal': 'You’ve got $50k to start your business and you want to know whether your idea is any good before committing all your resources.', 'hint': 'What’s the most likely reason this business could fail?', 'label': 'What’s the most likely reason this business could fail?'}) (input_keys={'business_proposal', 'hint'}): 'ChainOfThought' object has no attribute 'input_fields'. Set `provide_traceback=True` for traceback.\n"
     ]
    },
    {
     "name": "stdout",
     "output_type": "stream",
     "text": [
      "\r",
      "  0%|                                                                                                                                         | 0/15 [00:00<?, ?it/s]"
     ]
    },
    {
     "name": "stderr",
     "output_type": "stream",
     "text": [
      "2025/05/22 22:06:39 ERROR dspy.utils.parallelizer: Error for Example({'business_proposal': \"You’re building a solution for a customer segment that includes 'students' or 'sales organizations,' thinking you’re focused.\", 'hint': 'Am I talking to a consistent customer segment or are these conversations spread across too many types?', 'label': 'Am I talking to a consistent customer segment or are these conversations spread across too many types?'}) (input_keys={'business_proposal', 'hint'}): 'ChainOfThought' object has no attribute 'input_fields'. Set `provide_traceback=True` for traceback.\n"
     ]
    },
    {
     "name": "stdout",
     "output_type": "stream",
     "text": [
      "Average Metric: 0.00 / 0 (0%):   7%|██████▍                                                                                          | 1/15 [00:00<00:00, 666.71it/s]"
     ]
    },
    {
     "name": "stderr",
     "output_type": "stream",
     "text": [
      "2025/05/22 22:06:39 ERROR dspy.utils.parallelizer: Error for Example({'business_proposal': 'We’re building a marketplace for local artisans to sell their crafts directly to consumers, cutting out the middleman.', 'hint': 'Have you ever tried selling your products online, and what stopped you if you haven’t?', 'label': 'Have you ever tried selling your products online, and what stopped you if you haven’t?'}) (input_keys={'business_proposal', 'hint'}): 'ChainOfThought' object has no attribute 'input_fields'. Set `provide_traceback=True` for traceback.\n"
     ]
    },
    {
     "name": "stdout",
     "output_type": "stream",
     "text": [
      "\r",
      "Average Metric: 0.00 / 0 (0%):  13%|████████████▉                                                                                    | 2/15 [00:00<00:00, 984.35it/s]"
     ]
    },
    {
     "name": "stderr",
     "output_type": "stream",
     "text": [
      "2025/05/22 22:06:39 ERROR dspy.utils.parallelizer: Error for Example({'business_proposal': 'We want to automate nutrition planning for athletes with an AI coach that updates meal plans daily based on performance.', 'hint': 'How do you currently plan your meals and how often do you actually adjust them based on training feedback?', 'label': 'How do you currently plan your meals and how often do you actually adjust them based on training feedback?'}) (input_keys={'business_proposal', 'hint'}): 'ChainOfThought' object has no attribute 'input_fields'. Set `provide_traceback=True` for traceback.\n"
     ]
    },
    {
     "name": "stdout",
     "output_type": "stream",
     "text": [
      "Average Metric: 0.00 / 0 (0%):  27%|█████████████████████████▌                                                                      | 4/15 [00:00<00:00, 1356.50it/s]"
     ]
    },
    {
     "name": "stderr",
     "output_type": "stream",
     "text": [
      "2025/05/22 22:06:39 ERROR dspy.utils.parallelizer: Error for Example({'business_proposal': 'Our product helps landlords track maintenance requests and rent payments in one dashboard.', 'hint': 'What are the biggest problems in your rental workflow right now, and do any of them actually cost you money or tenants?', 'label': 'What are the biggest problems in your rental workflow right now, and do any of them actually cost you money or tenants?'}) (input_keys={'business_proposal', 'hint'}): 'ChainOfThought' object has no attribute 'input_fields'. Set `provide_traceback=True` for traceback.\n"
     ]
    },
    {
     "name": "stdout",
     "output_type": "stream",
     "text": [
      "\r",
      "Average Metric: 0.00 / 0 (0%):  33%|████████████████████████████████                                                                | 5/15 [00:00<00:00, 1472.72it/s]"
     ]
    },
    {
     "name": "stderr",
     "output_type": "stream",
     "text": [
      "2025/05/22 22:06:39 ERROR dspy.utils.parallelizer: Error for Example({'business_proposal': 'We’re launching a subscription box of STEM projects for kids aged 8–12 to foster early interest in engineering.', 'hint': 'When was the last time you bought something educational for your kids that wasn’t required by school?', 'label': 'When was the last time you bought something educational for your kids that wasn’t required by school?'}) (input_keys={'business_proposal', 'hint'}): 'ChainOfThought' object has no attribute 'input_fields'. Set `provide_traceback=True` for traceback.\n"
     ]
    },
    {
     "name": "stdout",
     "output_type": "stream",
     "text": [
      "\r",
      "Average Metric: 0.00 / 0 (0%):  40%|██████████████████████████████████████▍                                                         | 6/15 [00:00<00:00, 1463.47it/s]"
     ]
    },
    {
     "name": "stderr",
     "output_type": "stream",
     "text": [
      "2025/05/22 22:06:39 ERROR dspy.utils.parallelizer: Error for Example({'business_proposal': \"We're building a tool to help wedding planners coordinate vendors, guests, and schedules in one place.\", 'hint': 'What’s the worst part of planning a wedding, and how do you currently manage that part?', 'label': 'What’s the worst part of planning a wedding, and how do you currently manage that part?'}) (input_keys={'business_proposal', 'hint'}): 'ChainOfThought' object has no attribute 'input_fields'. Set `provide_traceback=True` for traceback.\n"
     ]
    },
    {
     "name": "stdout",
     "output_type": "stream",
     "text": [
      "Average Metric: 0.00 / 0 (0%):  53%|███████████████████████████████████████████████████▏                                            | 8/15 [00:00<00:00, 1629.96it/s]"
     ]
    },
    {
     "name": "stderr",
     "output_type": "stream",
     "text": [
      "2025/05/22 22:06:39 ERROR dspy.utils.parallelizer: Error for Example({'business_proposal': 'We want to help freelancers manage their taxes and automatically save for quarterly payments.', 'hint': 'Have you ever missed a tax payment or been hit with a fine? What did you do about it?', 'label': 'Have you ever missed a tax payment or been hit with a fine? What did you do about it?'}) (input_keys={'business_proposal', 'hint'}): 'ChainOfThought' object has no attribute 'input_fields'. Set `provide_traceback=True` for traceback.\n"
     ]
    },
    {
     "name": "stdout",
     "output_type": "stream",
     "text": [
      "Average Metric: 0.00 / 0 (0%):  67%|███████████████████████████████████████████████████████████████▎                               | 10/15 [00:00<00:00, 1724.49it/s]"
     ]
    },
    {
     "name": "stderr",
     "output_type": "stream",
     "text": [
      "2025/05/22 22:06:39 ERROR dspy.utils.parallelizer: Error for Example({'business_proposal': 'We’re developing a social platform for book lovers to find and join local book clubs.', 'hint': 'How do you currently find new people to read or discuss books with, and do you feel like that’s a gap in your life?', 'label': 'How do you currently find new people to read or discuss books with, and do you feel like that’s a gap in your life?'}) (input_keys={'business_proposal', 'hint'}): 'ChainOfThought' object has no attribute 'input_fields'. Set `provide_traceback=True` for traceback.\n",
      "2025/05/22 22:06:39 ERROR dspy.utils.parallelizer: Error for Example({'business_proposal': 'We’re building software to help nonprofit boards manage compliance and governance more easily.', 'hint': 'Has governance or compliance ever caused real delays or risks for your nonprofit?', 'label': 'Has governance or compliance ever caused real delays or risks for your nonprofit?'}) (input_keys={'business_proposal', 'hint'}): 'ChainOfThought' object has no attribute 'input_fields'. Set `provide_traceback=True` for traceback.\n"
     ]
    },
    {
     "name": "stdout",
     "output_type": "stream",
     "text": [
      "Average Metric: 0.00 / 0 (0%):  80%|████████████████████████████████████████████████████████████████████████████                   | 12/15 [00:00<00:00, 1674.09it/s]"
     ]
    },
    {
     "name": "stderr",
     "output_type": "stream",
     "text": [
      "2025/05/22 22:06:39 ERROR dspy.utils.parallelizer: Error for Example({'business_proposal': 'We want to make a budgeting app for couples to track and manage shared expenses transparently.', 'hint': 'What’s the last disagreement you had with your partner about money, and how did you resolve it?', 'label': 'What’s the last disagreement you had with your partner about money, and how did you resolve it?'}) (input_keys={'business_proposal', 'hint'}): 'ChainOfThought' object has no attribute 'input_fields'. Set `provide_traceback=True` for traceback.\n"
     ]
    },
    {
     "name": "stdout",
     "output_type": "stream",
     "text": [
      "\r",
      "Average Metric: 0.00 / 0 (0%):  87%|██████████████████████████████████████████████████████████████████████████████████▎            | 13/15 [00:00<00:00, 1559.71it/s]"
     ]
    },
    {
     "name": "stderr",
     "output_type": "stream",
     "text": [
      "2025/05/22 22:06:39 ERROR dspy.utils.parallelizer: Error for Example({'business_proposal': 'We’re building an AI tool to help content marketers repurpose long-form blogs into social media posts.', 'hint': 'What’s stopping you from turning your best content into social posts today?', 'label': 'What’s stopping you from turning your best content into social posts today?'}) (input_keys={'business_proposal', 'hint'}): 'ChainOfThought' object has no attribute 'input_fields'. Set `provide_traceback=True` for traceback.\n"
     ]
    },
    {
     "name": "stdout",
     "output_type": "stream",
     "text": [
      "Average Metric: 0.00 / 0 (0%): 100%|███████████████████████████████████████████████████████████████████████████████████████████████| 15/15 [00:00<00:00, 1639.89it/s]"
     ]
    },
    {
     "name": "stderr",
     "output_type": "stream",
     "text": [
      "2025/05/22 22:06:39 INFO dspy.evaluate.evaluate: Average Metric: 0 / 15 (0.0%)\n",
      "2025/05/22 22:06:39 WARNING dspy.teleprompt.bootstrap_finetune: Failed to unpack prediction and trace. This is likely due to the LLM response not following dspy formatting.\n"
     ]
    },
    {
     "name": "stdout",
     "output_type": "stream",
     "text": [
      "\n"
     ]
    },
    {
     "ename": "ValueError",
     "evalue": "not enough values to unpack (expected 2, got 0)",
     "output_type": "error",
     "traceback": [
      "\u001b[31m---------------------------------------------------------------------------\u001b[39m",
      "\u001b[31mValueError\u001b[39m                                Traceback (most recent call last)",
      "\u001b[36mCell\u001b[39m\u001b[36m \u001b[39m\u001b[32mIn[51]\u001b[39m\u001b[32m, line 14\u001b[39m\n\u001b[32m     12\u001b[39m metric = SemanticF1(threshold=\u001b[32m0.75\u001b[39m)\n\u001b[32m     13\u001b[39m optim = dspy.BootstrapFinetune(metric=metric, num_threads=\u001b[32m8\u001b[39m)\n\u001b[32m---> \u001b[39m\u001b[32m14\u001b[39m scary_agent = \u001b[43moptim\u001b[49m\u001b[43m.\u001b[49m\u001b[43mcompile\u001b[49m\u001b[43m(\u001b[49m\u001b[43mask_scary\u001b[49m\u001b[43m,\u001b[49m\u001b[43m \u001b[49m\u001b[43mtrainset\u001b[49m\u001b[43m=\u001b[49m\u001b[43mtrainset\u001b[49m\u001b[43m)\u001b[49m\n",
      "\u001b[36mFile \u001b[39m\u001b[32m~/Library/Caches/pypoetry/virtualenvs/dspy-toy-SOZM3orb-py3.11/lib/python3.11/site-packages/dspy/teleprompt/bootstrap_finetune.py:78\u001b[39m, in \u001b[36mBootstrapFinetune.compile\u001b[39m\u001b[34m(self, student, trainset, teacher)\u001b[39m\n\u001b[32m     76\u001b[39m num_threads = \u001b[38;5;28mself\u001b[39m.num_threads \u001b[38;5;129;01mor\u001b[39;00m dspy.settings.num_threads\n\u001b[32m     77\u001b[39m \u001b[38;5;28;01mfor\u001b[39;00m t \u001b[38;5;129;01min\u001b[39;00m teachers:\n\u001b[32m---> \u001b[39m\u001b[32m78\u001b[39m     trace_data += \u001b[43mbootstrap_trace_data\u001b[49m\u001b[43m(\u001b[49m\u001b[43mprogram\u001b[49m\u001b[43m=\u001b[49m\u001b[43mt\u001b[49m\u001b[43m,\u001b[49m\u001b[43m \u001b[49m\u001b[43mdataset\u001b[49m\u001b[43m=\u001b[49m\u001b[43mtrainset\u001b[49m\u001b[43m,\u001b[49m\u001b[43m \u001b[49m\u001b[43mmetric\u001b[49m\u001b[43m=\u001b[49m\u001b[38;5;28;43mself\u001b[39;49m\u001b[43m.\u001b[49m\u001b[43mmetric\u001b[49m\u001b[43m,\u001b[49m\u001b[43m \u001b[49m\u001b[43mnum_threads\u001b[49m\u001b[43m=\u001b[49m\u001b[43mnum_threads\u001b[49m\u001b[43m)\u001b[49m\n\u001b[32m     80\u001b[39m logger.info(\u001b[33m\"\u001b[39m\u001b[33mPreparing the train data...\u001b[39m\u001b[33m\"\u001b[39m)\n\u001b[32m     81\u001b[39m key_to_data = {}\n",
      "\u001b[36mFile \u001b[39m\u001b[32m~/Library/Caches/pypoetry/virtualenvs/dspy-toy-SOZM3orb-py3.11/lib/python3.11/site-packages/dspy/teleprompt/bootstrap_finetune.py:308\u001b[39m, in \u001b[36mbootstrap_trace_data\u001b[39m\u001b[34m(program, dataset, metric, num_threads, raise_on_error, capture_failed_parses, failure_score, format_failure_score, log_format_failures)\u001b[39m\n\u001b[32m    304\u001b[39m logger.warning(\n\u001b[32m    305\u001b[39m     \u001b[33m\"\u001b[39m\u001b[33mFailed to unpack prediction and trace. This is likely due to the LLM response not following dspy formatting.\u001b[39m\u001b[33m\"\u001b[39m\n\u001b[32m    306\u001b[39m )\n\u001b[32m    307\u001b[39m \u001b[38;5;28;01mif\u001b[39;00m raise_on_error:\n\u001b[32m--> \u001b[39m\u001b[32m308\u001b[39m     \u001b[38;5;28;01mraise\u001b[39;00m ve\n\u001b[32m    309\u001b[39m \u001b[38;5;28;01melse\u001b[39;00m:\n\u001b[32m    310\u001b[39m     \u001b[38;5;28;01mcontinue\u001b[39;00m\n",
      "\u001b[36mFile \u001b[39m\u001b[32m~/Library/Caches/pypoetry/virtualenvs/dspy-toy-SOZM3orb-py3.11/lib/python3.11/site-packages/dspy/teleprompt/bootstrap_finetune.py:298\u001b[39m, in \u001b[36mbootstrap_trace_data\u001b[39m\u001b[34m(program, dataset, metric, num_threads, raise_on_error, capture_failed_parses, failure_score, format_failure_score, log_format_failures)\u001b[39m\n\u001b[32m    296\u001b[39m \u001b[38;5;28;01mfor\u001b[39;00m example_ind, (example, prediction, score) \u001b[38;5;129;01min\u001b[39;00m \u001b[38;5;28menumerate\u001b[39m(outputs):\n\u001b[32m    297\u001b[39m     \u001b[38;5;28;01mtry\u001b[39;00m:\n\u001b[32m--> \u001b[39m\u001b[32m298\u001b[39m         prediction, trace = prediction\n\u001b[32m    299\u001b[39m     \u001b[38;5;28;01mexcept\u001b[39;00m \u001b[38;5;167;01mValueError\u001b[39;00m \u001b[38;5;28;01mas\u001b[39;00m ve:\n\u001b[32m    300\u001b[39m         \u001b[38;5;66;03m# TODO(GRPO Team): Often during GRPO bootstrapping, the LLM response does not follow dspy formatting. This leads to a value error.\u001b[39;00m\n\u001b[32m    301\u001b[39m         \u001b[38;5;66;03m# To reproduce this issue, try Qwen/Qwen2.5-Coder-0.5B-Instruct with MATH dataset\u001b[39;00m\n\u001b[32m    302\u001b[39m         \u001b[38;5;66;03m# Proposal(Lakshya): We should capture the incorrectly-formatted LLM response, and store it in the trace, and pass it to in the GRPO group\u001b[39;00m\n\u001b[32m    303\u001b[39m         \u001b[38;5;66;03m# with a high-negative user-configurable score.\u001b[39;00m\n\u001b[32m    304\u001b[39m         logger.warning(\n\u001b[32m    305\u001b[39m             \u001b[33m\"\u001b[39m\u001b[33mFailed to unpack prediction and trace. This is likely due to the LLM response not following dspy formatting.\u001b[39m\u001b[33m\"\u001b[39m\n\u001b[32m    306\u001b[39m         )\n",
      "\u001b[31mValueError\u001b[39m: not enough values to unpack (expected 2, got 0)"
     ]
    }
   ],
   "source": [
    "import dspy\n",
    "from dspy.evaluate import SemanticF1\n",
    "from dspy import settings\n",
    "\n",
    "settings.use_structured_output = False   # stop adding response_format\n",
    "settings.rationale_mode        = \"none\"  # stop adding rationale_type\n",
    "\n",
    "dspy.configure(lm=dspy.LM('openai/gpt-3.5-turbo-0125'))\n",
    "\n",
    "sig = dspy.ChainOfThought(\"business_proposal -> scary_question: str\") \n",
    "ask_scary = dspy.Predict(sig)\n",
    "metric = SemanticF1(threshold=0.75)\n",
    "optim = dspy.BootstrapFinetune(metric=metric, num_threads=8)\n",
    "scary_agent = optim.compile(ask_scary, trainset=trainset)"
   ]
  },
  {
   "cell_type": "code",
   "execution_count": null,
   "id": "6889a8ab",
   "metadata": {},
   "outputs": [],
   "source": [
    "proposal = \"\"\"\n",
    "We’re building an app that lets bars live‑stream trivia so patrons\n",
    "in different locations can compete in real time.\n",
    "\"\"\"\n",
    "print(scary_agent(business_proposal=proposal).scary_question)"
   ]
  }
 ],
 "metadata": {
  "kernelspec": {
   "display_name": "Python (dspy)",
   "language": "python",
   "name": "dspy"
  },
  "language_info": {
   "codemirror_mode": {
    "name": "ipython",
    "version": 3
   },
   "file_extension": ".py",
   "mimetype": "text/x-python",
   "name": "python",
   "nbconvert_exporter": "python",
   "pygments_lexer": "ipython3",
   "version": "3.11.9"
  }
 },
 "nbformat": 4,
 "nbformat_minor": 5
}

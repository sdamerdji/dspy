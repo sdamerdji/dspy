{
 "cells": [
  {
   "cell_type": "code",
   "execution_count": 1,
   "id": "269dc171",
   "metadata": {},
   "outputs": [
    {
     "name": "stderr",
     "output_type": "stream",
     "text": [
      "/Users/Salim/Library/Caches/pypoetry/virtualenvs/dspy-toy-SOZM3orb-py3.11/lib/python3.11/site-packages/tqdm/auto.py:21: TqdmWarning: IProgress not found. Please update jupyter and ipywidgets. See https://ipywidgets.readthedocs.io/en/stable/user_install.html\n",
      "  from .autonotebook import tqdm as notebook_tqdm\n"
     ]
    }
   ],
   "source": [
    "import dspy\n",
    "import dspy\n",
    "from dspy.evaluate import SemanticF1\n",
    "from dspy import settings\n",
    "import os"
   ]
  },
  {
   "cell_type": "code",
   "execution_count": 2,
   "id": "b3c3d953",
   "metadata": {},
   "outputs": [],
   "source": [
    "api_key = os.environ.get('OPENAI_API_KEY')"
   ]
  },
  {
   "cell_type": "code",
   "execution_count": 14,
   "id": "54a2a6ef",
   "metadata": {},
   "outputs": [],
   "source": [
    "lm = dspy.LM('openai/gpt-4.1-nano', api_key=api_key)\n",
    "dspy.configure(lm=lm)"
   ]
  },
  {
   "cell_type": "code",
   "execution_count": 15,
   "id": "33a68f5f",
   "metadata": {},
   "outputs": [],
   "source": [
    "mom_test_examples = [\n",
    "  {\n",
    "    \"business_proposal\": \"One of my companies had some legal ambiguities around content ownership. It was okay in theory, but lacked strong precedents. I was always a bit nervous we would get 'found out.' Their execs were excited, their creatives were thrilled. We had even brought the stubborn tech team around to our side.\",\n",
    "    \"question\": \"Can I speak with your legal team to understand if they’re comfortable with the content ownership terms?\"\n",
    "  },\n",
    "  {\n",
    "    \"business_proposal\": \"We suspect that teachers from the poorest schools are completely overloaded, and that our tools would save them time so they could better educate their students.\",\n",
    "    \"question\": \"Do you have a budget allocated for tools like this?\"\n",
    "  },\n",
    "  {\n",
    "    \"business_proposal\": \"Bars will pay, but only if you can amass a huge audience of consumers. The founders talk to consumers and ask if they would use an app which always pointed them to booming parties with cheap booze.\",\n",
    "    \"question\": \"How would we reach the critical mass of users needed to make this appealing to bars?\"\n",
    "  },\n",
    "  {\n",
    "    \"business_proposal\": \"You’ve got $50k to start your business and you want to know whether your idea is any good before committing all your resources.\",\n",
    "    \"question\": \"What’s the most likely reason this business could fail?\"\n",
    "  },\n",
    "  {\n",
    "    \"business_proposal\": \"You’re building a solution for a customer segment that includes 'students' or 'sales organizations,' thinking you’re focused.\",\n",
    "    \"question\": \"Am I talking to a consistent customer segment or are these conversations spread across too many types?\"\n",
    "  }\n",
    "]\n"
   ]
  },
  {
   "cell_type": "code",
   "execution_count": 16,
   "id": "29d8d6c0",
   "metadata": {},
   "outputs": [],
   "source": [
    "synthetic_examples = [\n",
    "  {\n",
    "    \"business_proposal\": \"We’re building a marketplace for local artisans to sell their crafts directly to consumers, cutting out the middleman.\",\n",
    "    \"question\": \"Have you ever tried selling your products online, and what stopped you if you haven’t?\"\n",
    "  },\n",
    "  {\n",
    "    \"business_proposal\": \"We want to automate nutrition planning for athletes with an AI coach that updates meal plans daily based on performance.\",\n",
    "    \"question\": \"How do you currently plan your meals and how often do you actually adjust them based on training feedback?\"\n",
    "  },\n",
    "  {\n",
    "    \"business_proposal\": \"Our product helps landlords track maintenance requests and rent payments in one dashboard.\",\n",
    "    \"question\": \"What are the biggest problems in your rental workflow right now, and do any of them actually cost you money or tenants?\"\n",
    "  },\n",
    "  {\n",
    "    \"business_proposal\": \"We’re launching a subscription box of STEM projects for kids aged 8–12 to foster early interest in engineering.\",\n",
    "    \"question\": \"When was the last time you bought something educational for your kids that wasn’t required by school?\"\n",
    "  },\n",
    "  {\n",
    "    \"business_proposal\": \"We're building a tool to help wedding planners coordinate vendors, guests, and schedules in one place.\",\n",
    "    \"question\": \"What’s the worst part of planning a wedding, and how do you currently manage that part?\"\n",
    "  },\n",
    "  {\n",
    "    \"business_proposal\": \"We want to help freelancers manage their taxes and automatically save for quarterly payments.\",\n",
    "    \"question\": \"Have you ever missed a tax payment or been hit with a fine? What did you do about it?\"\n",
    "  },\n",
    "  {\n",
    "    \"business_proposal\": \"We’re developing a social platform for book lovers to find and join local book clubs.\",\n",
    "    \"question\": \"How do you currently find new people to read or discuss books with, and do you feel like that’s a gap in your life?\"\n",
    "  },\n",
    "  {\n",
    "    \"business_proposal\": \"We’re building software to help nonprofit boards manage compliance and governance more easily.\",\n",
    "    \"question\": \"Has governance or compliance ever caused real delays or risks for your nonprofit?\"\n",
    "  },\n",
    "  {\n",
    "    \"business_proposal\": \"We want to make a budgeting app for couples to track and manage shared expenses transparently.\",\n",
    "    \"question\": \"What’s the last disagreement you had with your partner about money, and how did you resolve it?\"\n",
    "  },\n",
    "  {\n",
    "    \"business_proposal\": \"We’re building an AI tool to help content marketers repurpose long-form blogs into social media posts.\",\n",
    "    \"question\": \"What’s stopping you from turning your best content into social posts today?\"\n",
    "  }\n",
    "]"
   ]
  },
  {
   "cell_type": "code",
   "execution_count": 17,
   "id": "2a21acb1",
   "metadata": {},
   "outputs": [],
   "source": [
    "trainset = [\n",
    "    dspy.Example(business_proposal=x.get('business_proposal'), label=x.get('question')).with_inputs(\"business_proposal\")\n",
    "    for x in mom_test_examples + synthetic_examples\n",
    "]"
   ]
  },
  {
   "cell_type": "code",
   "execution_count": 18,
   "id": "c39f55c1",
   "metadata": {},
   "outputs": [
    {
     "data": {
      "text/plain": [
       "[Example({'business_proposal': \"One of my companies had some legal ambiguities around content ownership. It was okay in theory, but lacked strong precedents. I was always a bit nervous we would get 'found out.' Their execs were excited, their creatives were thrilled. We had even brought the stubborn tech team around to our side.\", 'label': 'Can I speak with your legal team to understand if they’re comfortable with the content ownership terms?'}) (input_keys={'business_proposal'}),\n",
       " Example({'business_proposal': 'We suspect that teachers from the poorest schools are completely overloaded, and that our tools would save them time so they could better educate their students.', 'label': 'Do you have a budget allocated for tools like this?'}) (input_keys={'business_proposal'})]"
      ]
     },
     "execution_count": 18,
     "metadata": {},
     "output_type": "execute_result"
    }
   ],
   "source": [
    "trainset[:2]"
   ]
  },
  {
   "cell_type": "code",
   "execution_count": 23,
   "id": "44059aa6",
   "metadata": {},
   "outputs": [
    {
     "name": "stderr",
     "output_type": "stream",
     "text": [
      "  0%|                                                                                                                                         | 0/15 [00:00<?, ?it/s]2025/05/22 22:26:33 ERROR dspy.teleprompt.bootstrap: Failed to run or to evaluate example Example({'business_proposal': \"One of my companies had some legal ambiguities around content ownership. It was okay in theory, but lacked strong precedents. I was always a bit nervous we would get 'found out.' Their execs were excited, their creatives were thrilled. We had even brought the stubborn tech team around to our side.\", 'label': 'Can I speak with your legal team to understand if they’re comfortable with the content ownership terms?'}) (input_keys={'business_proposal'}) with module.predict = Predict(StringSignature(question, ground_truth, system_response -> reasoning, recall, precision\n",
      "    instructions=\"Compare a system's response to the ground truth to compute its recall and precision.\\nIf asked to reason, enumerate key ideas in each response, and whether they are present in the other response.\"\n",
      "    question = Field(annotation=str required=True json_schema_extra={'__dspy_field_type': 'input', 'prefix': 'Question:', 'desc': '${question}'})\n",
      "    ground_truth = Field(annotation=str required=True json_schema_extra={'__dspy_field_type': 'input', 'prefix': 'Ground Truth:', 'desc': '${ground_truth}'})\n",
      "    system_response = Field(annotation=str required=True json_schema_extra={'__dspy_field_type': 'input', 'prefix': 'System Response:', 'desc': '${system_response}'})\n",
      "    reasoning = Field(annotation=str required=True json_schema_extra={'prefix': \"Reasoning: Let's think step by step in order to\", 'desc': '${reasoning}', '__dspy_field_type': 'output'})\n",
      "    recall = Field(annotation=float required=True json_schema_extra={'desc': 'fraction (out of 1.0) of ground truth covered by the system response', '__dspy_field_type': 'output', 'prefix': 'Recall:'})\n",
      "    precision = Field(annotation=float required=True json_schema_extra={'desc': 'fraction (out of 1.0) of system response covered by the ground truth', '__dspy_field_type': 'output', 'prefix': 'Precision:'})\n",
      ")) due to 'Example' object has no attribute 'question'.\n",
      "2025/05/22 22:26:33 ERROR dspy.teleprompt.bootstrap: Failed to run or to evaluate example Example({'business_proposal': 'We suspect that teachers from the poorest schools are completely overloaded, and that our tools would save them time so they could better educate their students.', 'label': 'Do you have a budget allocated for tools like this?'}) (input_keys={'business_proposal'}) with module.predict = Predict(StringSignature(question, ground_truth, system_response -> reasoning, recall, precision\n",
      "    instructions=\"Compare a system's response to the ground truth to compute its recall and precision.\\nIf asked to reason, enumerate key ideas in each response, and whether they are present in the other response.\"\n",
      "    question = Field(annotation=str required=True json_schema_extra={'__dspy_field_type': 'input', 'prefix': 'Question:', 'desc': '${question}'})\n",
      "    ground_truth = Field(annotation=str required=True json_schema_extra={'__dspy_field_type': 'input', 'prefix': 'Ground Truth:', 'desc': '${ground_truth}'})\n",
      "    system_response = Field(annotation=str required=True json_schema_extra={'__dspy_field_type': 'input', 'prefix': 'System Response:', 'desc': '${system_response}'})\n",
      "    reasoning = Field(annotation=str required=True json_schema_extra={'prefix': \"Reasoning: Let's think step by step in order to\", 'desc': '${reasoning}', '__dspy_field_type': 'output'})\n",
      "    recall = Field(annotation=float required=True json_schema_extra={'desc': 'fraction (out of 1.0) of ground truth covered by the system response', '__dspy_field_type': 'output', 'prefix': 'Recall:'})\n",
      "    precision = Field(annotation=float required=True json_schema_extra={'desc': 'fraction (out of 1.0) of system response covered by the ground truth', '__dspy_field_type': 'output', 'prefix': 'Precision:'})\n",
      ")) due to 'Example' object has no attribute 'question'.\n",
      "2025/05/22 22:26:33 ERROR dspy.teleprompt.bootstrap: Failed to run or to evaluate example Example({'business_proposal': 'Bars will pay, but only if you can amass a huge audience of consumers. The founders talk to consumers and ask if they would use an app which always pointed them to booming parties with cheap booze.', 'label': 'How would we reach the critical mass of users needed to make this appealing to bars?'}) (input_keys={'business_proposal'}) with module.predict = Predict(StringSignature(question, ground_truth, system_response -> reasoning, recall, precision\n",
      "    instructions=\"Compare a system's response to the ground truth to compute its recall and precision.\\nIf asked to reason, enumerate key ideas in each response, and whether they are present in the other response.\"\n",
      "    question = Field(annotation=str required=True json_schema_extra={'__dspy_field_type': 'input', 'prefix': 'Question:', 'desc': '${question}'})\n",
      "    ground_truth = Field(annotation=str required=True json_schema_extra={'__dspy_field_type': 'input', 'prefix': 'Ground Truth:', 'desc': '${ground_truth}'})\n",
      "    system_response = Field(annotation=str required=True json_schema_extra={'__dspy_field_type': 'input', 'prefix': 'System Response:', 'desc': '${system_response}'})\n",
      "    reasoning = Field(annotation=str required=True json_schema_extra={'prefix': \"Reasoning: Let's think step by step in order to\", 'desc': '${reasoning}', '__dspy_field_type': 'output'})\n",
      "    recall = Field(annotation=float required=True json_schema_extra={'desc': 'fraction (out of 1.0) of ground truth covered by the system response', '__dspy_field_type': 'output', 'prefix': 'Recall:'})\n",
      "    precision = Field(annotation=float required=True json_schema_extra={'desc': 'fraction (out of 1.0) of system response covered by the ground truth', '__dspy_field_type': 'output', 'prefix': 'Precision:'})\n",
      ")) due to 'Example' object has no attribute 'question'.\n",
      "2025/05/22 22:26:33 ERROR dspy.teleprompt.bootstrap: Failed to run or to evaluate example Example({'business_proposal': 'You’ve got $50k to start your business and you want to know whether your idea is any good before committing all your resources.', 'label': 'What’s the most likely reason this business could fail?'}) (input_keys={'business_proposal'}) with module.predict = Predict(StringSignature(question, ground_truth, system_response -> reasoning, recall, precision\n",
      "    instructions=\"Compare a system's response to the ground truth to compute its recall and precision.\\nIf asked to reason, enumerate key ideas in each response, and whether they are present in the other response.\"\n",
      "    question = Field(annotation=str required=True json_schema_extra={'__dspy_field_type': 'input', 'prefix': 'Question:', 'desc': '${question}'})\n",
      "    ground_truth = Field(annotation=str required=True json_schema_extra={'__dspy_field_type': 'input', 'prefix': 'Ground Truth:', 'desc': '${ground_truth}'})\n",
      "    system_response = Field(annotation=str required=True json_schema_extra={'__dspy_field_type': 'input', 'prefix': 'System Response:', 'desc': '${system_response}'})\n",
      "    reasoning = Field(annotation=str required=True json_schema_extra={'prefix': \"Reasoning: Let's think step by step in order to\", 'desc': '${reasoning}', '__dspy_field_type': 'output'})\n",
      "    recall = Field(annotation=float required=True json_schema_extra={'desc': 'fraction (out of 1.0) of ground truth covered by the system response', '__dspy_field_type': 'output', 'prefix': 'Recall:'})\n",
      "    precision = Field(annotation=float required=True json_schema_extra={'desc': 'fraction (out of 1.0) of system response covered by the ground truth', '__dspy_field_type': 'output', 'prefix': 'Precision:'})\n",
      ")) due to 'Example' object has no attribute 'question'.\n",
      " 27%|██████████████████████████████████▏                                                                                             | 4/15 [00:00<00:00, 453.30it/s]\n"
     ]
    },
    {
     "ename": "AttributeError",
     "evalue": "'Example' object has no attribute 'question'",
     "output_type": "error",
     "traceback": [
      "\u001b[31m---------------------------------------------------------------------------\u001b[39m",
      "\u001b[31mAttributeError\u001b[39m                            Traceback (most recent call last)",
      "\u001b[36mCell\u001b[39m\u001b[36m \u001b[39m\u001b[32mIn[23]\u001b[39m\u001b[32m, line 13\u001b[39m\n\u001b[32m     11\u001b[39m metric = SemanticF1(threshold=\u001b[32m0.75\u001b[39m)\n\u001b[32m     12\u001b[39m optim = dspy.BootstrapFewShot(metric=metric)\n\u001b[32m---> \u001b[39m\u001b[32m13\u001b[39m scary_agent = \u001b[43moptim\u001b[49m\u001b[43m.\u001b[49m\u001b[43mcompile\u001b[49m\u001b[43m(\u001b[49m\u001b[43msig\u001b[49m\u001b[43m,\u001b[49m\u001b[43m \u001b[49m\u001b[43mtrainset\u001b[49m\u001b[43m=\u001b[49m\u001b[43mtrainset\u001b[49m\u001b[43m)\u001b[49m\n",
      "\u001b[36mFile \u001b[39m\u001b[32m~/Library/Caches/pypoetry/virtualenvs/dspy-toy-SOZM3orb-py3.11/lib/python3.11/site-packages/dspy/teleprompt/bootstrap.py:83\u001b[39m, in \u001b[36mBootstrapFewShot.compile\u001b[39m\u001b[34m(self, student, teacher, trainset)\u001b[39m\n\u001b[32m     81\u001b[39m \u001b[38;5;28mself\u001b[39m._prepare_student_and_teacher(student, teacher)\n\u001b[32m     82\u001b[39m \u001b[38;5;28mself\u001b[39m._prepare_predictor_mappings()\n\u001b[32m---> \u001b[39m\u001b[32m83\u001b[39m \u001b[38;5;28;43mself\u001b[39;49m\u001b[43m.\u001b[49m\u001b[43m_bootstrap\u001b[49m\u001b[43m(\u001b[49m\u001b[43m)\u001b[49m\n\u001b[32m     85\u001b[39m \u001b[38;5;28mself\u001b[39m.student = \u001b[38;5;28mself\u001b[39m._train()\n\u001b[32m     86\u001b[39m \u001b[38;5;28mself\u001b[39m.student._compiled = \u001b[38;5;28;01mTrue\u001b[39;00m\n",
      "\u001b[36mFile \u001b[39m\u001b[32m~/Library/Caches/pypoetry/virtualenvs/dspy-toy-SOZM3orb-py3.11/lib/python3.11/site-packages/dspy/teleprompt/bootstrap.py:158\u001b[39m, in \u001b[36mBootstrapFewShot._bootstrap\u001b[39m\u001b[34m(self, max_bootstraps)\u001b[39m\n\u001b[32m    155\u001b[39m \u001b[38;5;28;01mfor\u001b[39;00m round_idx \u001b[38;5;129;01min\u001b[39;00m \u001b[38;5;28mrange\u001b[39m(\u001b[38;5;28mself\u001b[39m.max_rounds):\n\u001b[32m    156\u001b[39m     bootstrap_attempts += \u001b[32m1\u001b[39m\n\u001b[32m--> \u001b[39m\u001b[32m158\u001b[39m     \u001b[38;5;28;01mif\u001b[39;00m \u001b[38;5;28;43mself\u001b[39;49m\u001b[43m.\u001b[49m\u001b[43m_bootstrap_one_example\u001b[49m\u001b[43m(\u001b[49m\u001b[43mexample\u001b[49m\u001b[43m,\u001b[49m\u001b[43m \u001b[49m\u001b[43mround_idx\u001b[49m\u001b[43m)\u001b[49m:\n\u001b[32m    159\u001b[39m         bootstrapped[example_idx] = \u001b[38;5;28;01mTrue\u001b[39;00m\n\u001b[32m    160\u001b[39m         \u001b[38;5;28;01mbreak\u001b[39;00m\n",
      "\u001b[36mFile \u001b[39m\u001b[32m~/Library/Caches/pypoetry/virtualenvs/dspy-toy-SOZM3orb-py3.11/lib/python3.11/site-packages/dspy/teleprompt/bootstrap.py:214\u001b[39m, in \u001b[36mBootstrapFewShot._bootstrap_one_example\u001b[39m\u001b[34m(self, example, round_idx)\u001b[39m\n\u001b[32m    212\u001b[39m         current_error_count = \u001b[38;5;28mself\u001b[39m.error_count\n\u001b[32m    213\u001b[39m     \u001b[38;5;28;01mif\u001b[39;00m current_error_count >= \u001b[38;5;28mself\u001b[39m.max_errors:\n\u001b[32m--> \u001b[39m\u001b[32m214\u001b[39m         \u001b[38;5;28;01mraise\u001b[39;00m e\n\u001b[32m    215\u001b[39m     logger.error(\u001b[33mf\u001b[39m\u001b[33m\"\u001b[39m\u001b[33mFailed to run or to evaluate example \u001b[39m\u001b[38;5;132;01m{\u001b[39;00mexample\u001b[38;5;132;01m}\u001b[39;00m\u001b[33m with \u001b[39m\u001b[38;5;132;01m{\u001b[39;00m\u001b[38;5;28mself\u001b[39m.metric\u001b[38;5;132;01m}\u001b[39;00m\u001b[33m due to \u001b[39m\u001b[38;5;132;01m{\u001b[39;00me\u001b[38;5;132;01m}\u001b[39;00m\u001b[33m.\u001b[39m\u001b[33m\"\u001b[39m)\n\u001b[32m    217\u001b[39m \u001b[38;5;28;01mif\u001b[39;00m success:\n",
      "\u001b[36mFile \u001b[39m\u001b[32m~/Library/Caches/pypoetry/virtualenvs/dspy-toy-SOZM3orb-py3.11/lib/python3.11/site-packages/dspy/teleprompt/bootstrap.py:201\u001b[39m, in \u001b[36mBootstrapFewShot._bootstrap_one_example\u001b[39m\u001b[34m(self, example, round_idx)\u001b[39m\n\u001b[32m    198\u001b[39m         predictor.demos = predictor_cache[name]\n\u001b[32m    200\u001b[39m \u001b[38;5;28;01mif\u001b[39;00m \u001b[38;5;28mself\u001b[39m.metric:\n\u001b[32m--> \u001b[39m\u001b[32m201\u001b[39m     metric_val = \u001b[38;5;28;43mself\u001b[39;49m\u001b[43m.\u001b[49m\u001b[43mmetric\u001b[49m\u001b[43m(\u001b[49m\u001b[43mexample\u001b[49m\u001b[43m,\u001b[49m\u001b[43m \u001b[49m\u001b[43mprediction\u001b[49m\u001b[43m,\u001b[49m\u001b[43m \u001b[49m\u001b[43mtrace\u001b[49m\u001b[43m)\u001b[49m\n\u001b[32m    202\u001b[39m     \u001b[38;5;28;01mif\u001b[39;00m \u001b[38;5;28mself\u001b[39m.metric_threshold:\n\u001b[32m    203\u001b[39m         success = metric_val >= \u001b[38;5;28mself\u001b[39m.metric_threshold\n",
      "\u001b[36mFile \u001b[39m\u001b[32m~/Library/Caches/pypoetry/virtualenvs/dspy-toy-SOZM3orb-py3.11/lib/python3.11/site-packages/dspy/utils/callback.py:326\u001b[39m, in \u001b[36mwith_callbacks.<locals>.sync_wrapper\u001b[39m\u001b[34m(instance, *args, **kwargs)\u001b[39m\n\u001b[32m    324\u001b[39m callbacks = _get_active_callbacks(instance)\n\u001b[32m    325\u001b[39m \u001b[38;5;28;01mif\u001b[39;00m \u001b[38;5;129;01mnot\u001b[39;00m callbacks:\n\u001b[32m--> \u001b[39m\u001b[32m326\u001b[39m     \u001b[38;5;28;01mreturn\u001b[39;00m \u001b[43mfn\u001b[49m\u001b[43m(\u001b[49m\u001b[43minstance\u001b[49m\u001b[43m,\u001b[49m\u001b[43m \u001b[49m\u001b[43m*\u001b[49m\u001b[43margs\u001b[49m\u001b[43m,\u001b[49m\u001b[43m \u001b[49m\u001b[43m*\u001b[49m\u001b[43m*\u001b[49m\u001b[43mkwargs\u001b[49m\u001b[43m)\u001b[49m\n\u001b[32m    328\u001b[39m call_id = uuid.uuid4().hex\n\u001b[32m    330\u001b[39m _execute_start_callbacks(instance, fn, call_id, callbacks, args, kwargs)\n",
      "\u001b[36mFile \u001b[39m\u001b[32m~/Library/Caches/pypoetry/virtualenvs/dspy-toy-SOZM3orb-py3.11/lib/python3.11/site-packages/dspy/primitives/program.py:32\u001b[39m, in \u001b[36mModule.__call__\u001b[39m\u001b[34m(self, *args, **kwargs)\u001b[39m\n\u001b[32m     29\u001b[39m         output.set_lm_usage(usage_tracker.get_total_tokens())\n\u001b[32m     30\u001b[39m         \u001b[38;5;28;01mreturn\u001b[39;00m output\n\u001b[32m---> \u001b[39m\u001b[32m32\u001b[39m \u001b[38;5;28;01mreturn\u001b[39;00m \u001b[38;5;28;43mself\u001b[39;49m\u001b[43m.\u001b[49m\u001b[43mforward\u001b[49m\u001b[43m(\u001b[49m\u001b[43m*\u001b[49m\u001b[43margs\u001b[49m\u001b[43m,\u001b[49m\u001b[43m \u001b[49m\u001b[43m*\u001b[49m\u001b[43m*\u001b[49m\u001b[43mkwargs\u001b[49m\u001b[43m)\u001b[49m\n",
      "\u001b[36mFile \u001b[39m\u001b[32m~/Library/Caches/pypoetry/virtualenvs/dspy-toy-SOZM3orb-py3.11/lib/python3.11/site-packages/dspy/evaluate/auto_evaluation.py:48\u001b[39m, in \u001b[36mSemanticF1.forward\u001b[39m\u001b[34m(self, example, pred, trace)\u001b[39m\n\u001b[32m     47\u001b[39m \u001b[38;5;28;01mdef\u001b[39;00m\u001b[38;5;250m \u001b[39m\u001b[34mforward\u001b[39m(\u001b[38;5;28mself\u001b[39m, example, pred, trace=\u001b[38;5;28;01mNone\u001b[39;00m):\n\u001b[32m---> \u001b[39m\u001b[32m48\u001b[39m     scores = \u001b[38;5;28mself\u001b[39m.module(question=\u001b[43mexample\u001b[49m\u001b[43m.\u001b[49m\u001b[43mquestion\u001b[49m, ground_truth=example.response, system_response=pred.response)\n\u001b[32m     49\u001b[39m     score = f1_score(scores.precision, scores.recall)\n\u001b[32m     51\u001b[39m     \u001b[38;5;28;01mreturn\u001b[39;00m score \u001b[38;5;28;01mif\u001b[39;00m trace \u001b[38;5;129;01mis\u001b[39;00m \u001b[38;5;28;01mNone\u001b[39;00m \u001b[38;5;28;01melse\u001b[39;00m score >= \u001b[38;5;28mself\u001b[39m.threshold\n",
      "\u001b[36mFile \u001b[39m\u001b[32m~/Library/Caches/pypoetry/virtualenvs/dspy-toy-SOZM3orb-py3.11/lib/python3.11/site-packages/dspy/primitives/example.py:24\u001b[39m, in \u001b[36mExample.__getattr__\u001b[39m\u001b[34m(self, key)\u001b[39m\n\u001b[32m     22\u001b[39m \u001b[38;5;28;01mif\u001b[39;00m key \u001b[38;5;129;01min\u001b[39;00m \u001b[38;5;28mself\u001b[39m._store:\n\u001b[32m     23\u001b[39m     \u001b[38;5;28;01mreturn\u001b[39;00m \u001b[38;5;28mself\u001b[39m._store[key]\n\u001b[32m---> \u001b[39m\u001b[32m24\u001b[39m \u001b[38;5;28;01mraise\u001b[39;00m \u001b[38;5;167;01mAttributeError\u001b[39;00m(\u001b[33mf\u001b[39m\u001b[33m\"\u001b[39m\u001b[33m'\u001b[39m\u001b[38;5;132;01m{\u001b[39;00m\u001b[38;5;28mtype\u001b[39m(\u001b[38;5;28mself\u001b[39m).\u001b[34m__name__\u001b[39m\u001b[38;5;132;01m}\u001b[39;00m\u001b[33m'\u001b[39m\u001b[33m object has no attribute \u001b[39m\u001b[33m'\u001b[39m\u001b[38;5;132;01m{\u001b[39;00mkey\u001b[38;5;132;01m}\u001b[39;00m\u001b[33m'\u001b[39m\u001b[33m\"\u001b[39m)\n",
      "\u001b[31mAttributeError\u001b[39m: 'Example' object has no attribute 'question'"
     ]
    }
   ],
   "source": [
    "import dspy\n",
    "from dspy.evaluate import SemanticF1\n",
    "from dspy import settings\n",
    "\n",
    "settings.use_structured_output = False   # stop adding response_format\n",
    "settings.rationale_mode        = \"none\"  # stop adding rationale_type\n",
    "\n",
    "dspy.configure(lm=dspy.LM('openai/gpt-3.5-turbo-0125'))\n",
    "\n",
    "sig = dspy.ChainOfThought(\"business_proposal -> question: str\") \n",
    "metric = SemanticF1(threshold=0.75)\n",
    "optim = dspy.BootstrapFewShot(metric=metric)\n",
    "scary_agent = optim.compile(sig, trainset=trainset)"
   ]
  },
  {
   "cell_type": "code",
   "execution_count": 11,
   "id": "e5f2c53c",
   "metadata": {},
   "outputs": [
    {
     "data": {
      "text/plain": [
       "Prediction(\n",
       "    reasoning='The legal ambiguities surrounding content ownership in the company\\'s operations created a sense of unease and uncertainty. Despite the excitement from the executives and creatives, the lack of strong precedents and the potential risk of being \"found out\" remained a lingering concern.',\n",
       "    scary_question=\"What potential consequences could arise if the legal ambiguities around content ownership are exposed, and how could this impact the company's reputation and future operations?\"\n",
       ")"
      ]
     },
     "execution_count": 11,
     "metadata": {},
     "output_type": "execute_result"
    }
   ],
   "source": [
    "sig(business_proposal=\"One of my companies had some legal ambiguities around content ownership. It was okay in theory, but lacked strong precedents. I was always a bit nervous we would get 'found out.' Their execs were excited, their creatives were thrilled. We had even brought the stubborn tech team around to our side.\")"
   ]
  },
  {
   "cell_type": "code",
   "execution_count": null,
   "id": "56df6973",
   "metadata": {},
   "outputs": [],
   "source": [
    "metric = SemanticF1(threshold=0.75)\n",
    "optim = dspy.BootstrapFinetune(metric=metric, num_threads=1)\n",
    "scary_agent = optim.compile(ask_scary, trainset=trainset)"
   ]
  },
  {
   "cell_type": "code",
   "execution_count": null,
   "id": "9b63ec7d",
   "metadata": {},
   "outputs": [],
   "source": [
    "proposal = \"\"\"\n",
    "We’re building an app that lets bars live‑stream trivia so patrons\n",
    "in different locations can compete in real time.\n",
    "\"\"\"\n",
    "print(scary_agent(business_proposal=proposal).scary_question)"
   ]
  }
 ],
 "metadata": {
  "kernelspec": {
   "display_name": "Python (dspy)",
   "language": "python",
   "name": "dspy"
  },
  "language_info": {
   "codemirror_mode": {
    "name": "ipython",
    "version": 3
   },
   "file_extension": ".py",
   "mimetype": "text/x-python",
   "name": "python",
   "nbconvert_exporter": "python",
   "pygments_lexer": "ipython3",
   "version": "3.11.9"
  }
 },
 "nbformat": 4,
 "nbformat_minor": 5
}
